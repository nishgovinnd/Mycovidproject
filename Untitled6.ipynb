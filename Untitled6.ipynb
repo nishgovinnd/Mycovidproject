{
 "cells": [
  {
   "cell_type": "markdown",
   "metadata": {},
   "source": [
    "# WHO PROJECT\n",
    "## 1A"
   ]
  },
  {
   "cell_type": "code",
   "execution_count": null,
   "metadata": {},
   "outputs": [],
   "source": [
    "import pandas as pd\n",
    "import matplotlib.pyplot as plt   #importing required libraries\n",
    "import numpy as np\n",
    "import seaborn as sns\n",
    "from sklearn import preprocessing\n",
    "from sklearn.model_selection import train_test_split\n",
    "from sklearn.neighbors import KNeighborsClassifier\n",
    "from sklearn.preprocessing import LabelEncoder\n",
    "from sklearn import metrics"
   ]
  },
  {
   "cell_type": "code",
   "execution_count": 65,
   "metadata": {},
   "outputs": [
    {
     "name": "stdout",
     "output_type": "stream",
     "text": [
      "<class 'pandas.core.frame.DataFrame'>\n",
      "RangeIndex: 3711 entries, 0 to 3710\n",
      "Data columns (total 9 columns):\n",
      " #   Column                    Non-Null Count  Dtype \n",
      "---  ------                    --------------  ----- \n",
      " 0   Sno                       3711 non-null   int64 \n",
      " 1   Date                      3711 non-null   object\n",
      " 2   Time                      3711 non-null   object\n",
      " 3   State/UnionTerritory      3711 non-null   object\n",
      " 4   ConfirmedIndianNational   3711 non-null   object\n",
      " 5   ConfirmedForeignNational  3711 non-null   object\n",
      " 6   Cured                     3711 non-null   int64 \n",
      " 7   Deaths                    3711 non-null   int64 \n",
      " 8   Confirmed                 3711 non-null   int64 \n",
      "dtypes: int64(4), object(5)\n",
      "memory usage: 261.1+ KB\n"
     ]
    }
   ],
   "source": [
    "dateCols = ['Date']\n",
    "data = pd.read_csv(\"covid-19.csv\")\n",
    "data.info()"
   ]
  },
  {
   "cell_type": "code",
   "execution_count": 66,
   "metadata": {},
   "outputs": [],
   "source": [
    "data_col = []\n",
    "for col in data.columns:   \n",
    "    data_col.append(col)    "
   ]
  },
  {
   "cell_type": "code",
   "execution_count": 68,
   "metadata": {},
   "outputs": [
    {
     "data": {
      "text/html": [
       "<div>\n",
       "<style scoped>\n",
       "    .dataframe tbody tr th:only-of-type {\n",
       "        vertical-align: middle;\n",
       "    }\n",
       "\n",
       "    .dataframe tbody tr th {\n",
       "        vertical-align: top;\n",
       "    }\n",
       "\n",
       "    .dataframe thead th {\n",
       "        text-align: right;\n",
       "    }\n",
       "</style>\n",
       "<table border=\"1\" class=\"dataframe\">\n",
       "  <thead>\n",
       "    <tr style=\"text-align: right;\">\n",
       "      <th></th>\n",
       "      <th>Sno</th>\n",
       "      <th>Date</th>\n",
       "      <th>Time</th>\n",
       "      <th>State/UnionTerritory</th>\n",
       "      <th>ConfirmedIndianNational</th>\n",
       "      <th>ConfirmedForeignNational</th>\n",
       "      <th>Cured</th>\n",
       "      <th>Deaths</th>\n",
       "      <th>Confirmed</th>\n",
       "    </tr>\n",
       "  </thead>\n",
       "  <tbody>\n",
       "    <tr>\n",
       "      <th>2782</th>\n",
       "      <td>False</td>\n",
       "      <td>False</td>\n",
       "      <td>False</td>\n",
       "      <td>False</td>\n",
       "      <td>False</td>\n",
       "      <td>False</td>\n",
       "      <td>False</td>\n",
       "      <td>False</td>\n",
       "      <td>False</td>\n",
       "    </tr>\n",
       "    <tr>\n",
       "      <th>1199</th>\n",
       "      <td>False</td>\n",
       "      <td>False</td>\n",
       "      <td>False</td>\n",
       "      <td>False</td>\n",
       "      <td>False</td>\n",
       "      <td>False</td>\n",
       "      <td>False</td>\n",
       "      <td>False</td>\n",
       "      <td>False</td>\n",
       "    </tr>\n",
       "    <tr>\n",
       "      <th>1605</th>\n",
       "      <td>False</td>\n",
       "      <td>False</td>\n",
       "      <td>False</td>\n",
       "      <td>False</td>\n",
       "      <td>False</td>\n",
       "      <td>False</td>\n",
       "      <td>False</td>\n",
       "      <td>False</td>\n",
       "      <td>False</td>\n",
       "    </tr>\n",
       "    <tr>\n",
       "      <th>186</th>\n",
       "      <td>False</td>\n",
       "      <td>False</td>\n",
       "      <td>False</td>\n",
       "      <td>False</td>\n",
       "      <td>False</td>\n",
       "      <td>False</td>\n",
       "      <td>False</td>\n",
       "      <td>False</td>\n",
       "      <td>False</td>\n",
       "    </tr>\n",
       "    <tr>\n",
       "      <th>1378</th>\n",
       "      <td>False</td>\n",
       "      <td>False</td>\n",
       "      <td>False</td>\n",
       "      <td>False</td>\n",
       "      <td>False</td>\n",
       "      <td>False</td>\n",
       "      <td>False</td>\n",
       "      <td>False</td>\n",
       "      <td>False</td>\n",
       "    </tr>\n",
       "    <tr>\n",
       "      <th>1242</th>\n",
       "      <td>False</td>\n",
       "      <td>False</td>\n",
       "      <td>False</td>\n",
       "      <td>False</td>\n",
       "      <td>False</td>\n",
       "      <td>False</td>\n",
       "      <td>False</td>\n",
       "      <td>False</td>\n",
       "      <td>False</td>\n",
       "    </tr>\n",
       "    <tr>\n",
       "      <th>1858</th>\n",
       "      <td>False</td>\n",
       "      <td>False</td>\n",
       "      <td>False</td>\n",
       "      <td>False</td>\n",
       "      <td>False</td>\n",
       "      <td>False</td>\n",
       "      <td>False</td>\n",
       "      <td>False</td>\n",
       "      <td>False</td>\n",
       "    </tr>\n",
       "    <tr>\n",
       "      <th>1034</th>\n",
       "      <td>False</td>\n",
       "      <td>False</td>\n",
       "      <td>False</td>\n",
       "      <td>False</td>\n",
       "      <td>False</td>\n",
       "      <td>False</td>\n",
       "      <td>False</td>\n",
       "      <td>False</td>\n",
       "      <td>False</td>\n",
       "    </tr>\n",
       "    <tr>\n",
       "      <th>2284</th>\n",
       "      <td>False</td>\n",
       "      <td>False</td>\n",
       "      <td>False</td>\n",
       "      <td>False</td>\n",
       "      <td>False</td>\n",
       "      <td>False</td>\n",
       "      <td>False</td>\n",
       "      <td>False</td>\n",
       "      <td>False</td>\n",
       "    </tr>\n",
       "    <tr>\n",
       "      <th>2590</th>\n",
       "      <td>False</td>\n",
       "      <td>False</td>\n",
       "      <td>False</td>\n",
       "      <td>False</td>\n",
       "      <td>False</td>\n",
       "      <td>False</td>\n",
       "      <td>False</td>\n",
       "      <td>False</td>\n",
       "      <td>False</td>\n",
       "    </tr>\n",
       "  </tbody>\n",
       "</table>\n",
       "</div>"
      ],
      "text/plain": [
       "        Sno   Date   Time  State/UnionTerritory  ConfirmedIndianNational  \\\n",
       "2782  False  False  False                 False                    False   \n",
       "1199  False  False  False                 False                    False   \n",
       "1605  False  False  False                 False                    False   \n",
       "186   False  False  False                 False                    False   \n",
       "1378  False  False  False                 False                    False   \n",
       "1242  False  False  False                 False                    False   \n",
       "1858  False  False  False                 False                    False   \n",
       "1034  False  False  False                 False                    False   \n",
       "2284  False  False  False                 False                    False   \n",
       "2590  False  False  False                 False                    False   \n",
       "\n",
       "      ConfirmedForeignNational  Cured  Deaths  Confirmed  \n",
       "2782                     False  False   False      False  \n",
       "1199                     False  False   False      False  \n",
       "1605                     False  False   False      False  \n",
       "186                      False  False   False      False  \n",
       "1378                     False  False   False      False  \n",
       "1242                     False  False   False      False  \n",
       "1858                     False  False   False      False  \n",
       "1034                     False  False   False      False  \n",
       "2284                     False  False   False      False  \n",
       "2590                     False  False   False      False  "
      ]
     },
     "execution_count": 68,
     "metadata": {},
     "output_type": "execute_result"
    }
   ],
   "source": [
    "data.sample(10).isna()"
   ]
  },
  {
   "cell_type": "code",
   "execution_count": 38,
   "metadata": {},
   "outputs": [
    {
     "data": {
      "text/html": [
       "<div>\n",
       "<style scoped>\n",
       "    .dataframe tbody tr th:only-of-type {\n",
       "        vertical-align: middle;\n",
       "    }\n",
       "\n",
       "    .dataframe tbody tr th {\n",
       "        vertical-align: top;\n",
       "    }\n",
       "\n",
       "    .dataframe thead th {\n",
       "        text-align: right;\n",
       "    }\n",
       "</style>\n",
       "<table border=\"1\" class=\"dataframe\">\n",
       "  <thead>\n",
       "    <tr style=\"text-align: right;\">\n",
       "      <th></th>\n",
       "      <th>Sno</th>\n",
       "      <th>Date</th>\n",
       "      <th>Time</th>\n",
       "      <th>State/UnionTerritory</th>\n",
       "      <th>ConfirmedIndianNational</th>\n",
       "      <th>ConfirmedForeignNational</th>\n",
       "      <th>Cured</th>\n",
       "      <th>Deaths</th>\n",
       "      <th>Confirmed</th>\n",
       "    </tr>\n",
       "  </thead>\n",
       "  <tbody>\n",
       "    <tr>\n",
       "      <th>569</th>\n",
       "      <td>False</td>\n",
       "      <td>False</td>\n",
       "      <td>False</td>\n",
       "      <td>False</td>\n",
       "      <td>False</td>\n",
       "      <td>False</td>\n",
       "      <td>False</td>\n",
       "      <td>False</td>\n",
       "      <td>False</td>\n",
       "    </tr>\n",
       "    <tr>\n",
       "      <th>3094</th>\n",
       "      <td>False</td>\n",
       "      <td>False</td>\n",
       "      <td>False</td>\n",
       "      <td>False</td>\n",
       "      <td>False</td>\n",
       "      <td>False</td>\n",
       "      <td>False</td>\n",
       "      <td>False</td>\n",
       "      <td>False</td>\n",
       "    </tr>\n",
       "    <tr>\n",
       "      <th>3270</th>\n",
       "      <td>False</td>\n",
       "      <td>False</td>\n",
       "      <td>False</td>\n",
       "      <td>False</td>\n",
       "      <td>False</td>\n",
       "      <td>False</td>\n",
       "      <td>False</td>\n",
       "      <td>False</td>\n",
       "      <td>False</td>\n",
       "    </tr>\n",
       "    <tr>\n",
       "      <th>2213</th>\n",
       "      <td>False</td>\n",
       "      <td>False</td>\n",
       "      <td>False</td>\n",
       "      <td>False</td>\n",
       "      <td>False</td>\n",
       "      <td>False</td>\n",
       "      <td>False</td>\n",
       "      <td>False</td>\n",
       "      <td>False</td>\n",
       "    </tr>\n",
       "    <tr>\n",
       "      <th>1658</th>\n",
       "      <td>False</td>\n",
       "      <td>False</td>\n",
       "      <td>False</td>\n",
       "      <td>False</td>\n",
       "      <td>False</td>\n",
       "      <td>False</td>\n",
       "      <td>False</td>\n",
       "      <td>False</td>\n",
       "      <td>False</td>\n",
       "    </tr>\n",
       "  </tbody>\n",
       "</table>\n",
       "</div>"
      ],
      "text/plain": [
       "        Sno   Date   Time  State/UnionTerritory  ConfirmedIndianNational  \\\n",
       "569   False  False  False                 False                    False   \n",
       "3094  False  False  False                 False                    False   \n",
       "3270  False  False  False                 False                    False   \n",
       "2213  False  False  False                 False                    False   \n",
       "1658  False  False  False                 False                    False   \n",
       "\n",
       "      ConfirmedForeignNational  Cured  Deaths  Confirmed  \n",
       "569                      False  False   False      False  \n",
       "3094                     False  False   False      False  \n",
       "3270                     False  False   False      False  \n",
       "2213                     False  False   False      False  \n",
       "1658                     False  False   False      False  "
      ]
     },
     "execution_count": 38,
     "metadata": {},
     "output_type": "execute_result"
    }
   ],
   "source": [
    "data.sample(5).isna()"
   ]
  },
  {
   "cell_type": "code",
   "execution_count": 40,
   "metadata": {},
   "outputs": [],
   "source": [
    "temp = data[\"State/UnionTerritory\"] == 'Uttarakhand'\n",
    "Uttarakhand = data.loc[temp]"
   ]
  },
  {
   "cell_type": "code",
   "execution_count": 41,
   "metadata": {},
   "outputs": [
    {
     "data": {
      "text/plain": [
       "161     15/03/20\n",
       "956     14/04/20\n",
       "1932    14/05/20\n",
       "2987    13/06/20\n",
       "Name: Date, dtype: object"
      ]
     },
     "execution_count": 41,
     "metadata": {},
     "output_type": "execute_result"
    }
   ],
   "source": [
    "Uttarakhand.Date[0:118:30]"
   ]
  },
  {
   "cell_type": "code",
   "execution_count": 42,
   "metadata": {},
   "outputs": [
    {
     "data": {
      "image/png": "[encoded data removed]",
      "text/plain": [
       "<Figure size 432x288 with 1 Axes>"
      ]
     },
     "metadata": {},
     "output_type": "display_data"
    }
   ],
   "source": [
    "plt.style.use('ggplot')\n",
    "plt.plot(Uttarakhand.Date,Uttarakhand.Confirmed,label=\"Confirmed\")\n",
    "plt.plot(Uttarakhand.Date,Uttarakhand.Deaths,label=\"Deaths\")\n",
    "plt.plot(Uttarakhand.Date,Uttarakhand.Cured,label=\"Cured\")\n",
    "plt.title(\"Relation between Infected , Recovered & Deceased personal of Uttarakhand 2020 \")\n",
    "plt.xlabel(\"Month\")\n",
    "plt.ylabel(\"No of cases cases\")\n",
    "plt.xticks(Uttarakhand.Date[0:118:15].tolist(),rotation=55)\n",
    "plt.legend()\n",
    "plt.show()"
   ]
  },
  {
   "cell_type": "code",
   "execution_count": 44,
   "metadata": {},
   "outputs": [
    {
     "data": {
      "image/png": "[encoded data removed]",
      "text/plain": [
       "<Figure size 432x288 with 1 Axes>"
      ]
     },
     "metadata": {},
     "output_type": "display_data"
    }
   ],
   "source": [
    "infected = sum(Uttarakhand[\"Confirmed\"])\n",
    "deceased = sum(Uttarakhand[\"Deaths\"])\n",
    "recovered = sum(Uttarakhand[\"Cured\"])\n",
    "\n",
    "labels = ['Infected', 'Recovered', 'Dead']\n",
    "sizes = [infected, recovered, deceased]\n",
    "colors = ['blue', 'pink', 'red']\n",
    "explode = (0, 0, 0) \n",
    "plt.pie(sizes, explode=explode, labels=labels, colors=colors, autopct='%1.1f%%', shadow=True)\n",
    "plt.title(\"Percentage distribution Of Covid-19 Infected, Recovered, Deceased from March till July 2020 of Uttarakhand\")\n",
    "plt.axis('equal')\n",
    "plt.show()"
   ]
  },
  {
   "cell_type": "markdown",
   "metadata": {},
   "source": [
    "## B 2 HEAT MAP"
   ]
  },
  {
   "cell_type": "code",
   "execution_count": 69,
   "metadata": {},
   "outputs": [],
   "source": [
    "data['Mortality Rate'] = (data['Confirmed']/data['Deaths']).round(2)"
   ]
  },
  {
   "cell_type": "code",
   "execution_count": 70,
   "metadata": {},
   "outputs": [],
   "source": [
    "data['Recovery Rate'] = (data['Cured']/data['Confirmed']).round(2)"
   ]
  },
  {
   "cell_type": "code",
   "execution_count": 71,
   "metadata": {},
   "outputs": [
    {
     "data": {
      "text/plain": [
       "<matplotlib.axes._subplots.AxesSubplot at 0x1fa9102d148>"
      ]
     },
     "execution_count": 71,
     "metadata": {},
     "output_type": "execute_result"
    },
    {
     "data": {
      "image/png": "[encoded data removed]",
      "text/plain": [
       "<Figure size 432x288 with 2 Axes>"
      ]
     },
     "metadata": {},
     "output_type": "display_data"
    }
   ],
   "source": [
    "sns.heatmap(data.corr(),annot=True)"
   ]
  },
  {
   "cell_type": "markdown",
   "metadata": {},
   "source": [
    "## C 3 Build a model for predicting the confirmed and recovered "
   ]
  },
  {
   "cell_type": "code",
   "execution_count": 72,
   "metadata": {},
   "outputs": [],
   "source": [
    "datas= pd.read_csv('state.csv')"
   ]
  },
  {
   "cell_type": "code",
   "execution_count": 73,
   "metadata": {},
   "outputs": [
    {
     "data": {
      "text/plain": [
       "array(['Confirmed', 'Recovered', 'Deceased'], dtype=object)"
      ]
     },
     "execution_count": 73,
     "metadata": {},
     "output_type": "execute_result"
    }
   ],
   "source": [
    "\n",
    "datas['Status'].unique()"
   ]
  },
  {
   "cell_type": "code",
   "execution_count": 74,
   "metadata": {},
   "outputs": [],
   "source": [
    "datas['Status'] = datas['Status'].replace(\"Confirmed\", \"0\")\n",
    "datas['Status'] = datas['Status'].replace(\"Recovered\", \"1\")\n",
    "datas['Status'] = datas['Status'].replace(\"Deceased\", \"2\")"
   ]
  },
  {
   "cell_type": "code",
   "execution_count": 75,
   "metadata": {},
   "outputs": [
    {
     "data": {
      "text/html": [
       "<div>\n",
       "<style scoped>\n",
       "    .dataframe tbody tr th:only-of-type {\n",
       "        vertical-align: middle;\n",
       "    }\n",
       "\n",
       "    .dataframe tbody tr th {\n",
       "        vertical-align: top;\n",
       "    }\n",
       "\n",
       "    .dataframe thead th {\n",
       "        text-align: right;\n",
       "    }\n",
       "</style>\n",
       "<table border=\"1\" class=\"dataframe\">\n",
       "  <thead>\n",
       "    <tr style=\"text-align: right;\">\n",
       "      <th></th>\n",
       "      <th>Date</th>\n",
       "      <th>Status</th>\n",
       "      <th>TT</th>\n",
       "      <th>AN</th>\n",
       "      <th>AP</th>\n",
       "      <th>AR</th>\n",
       "      <th>AS</th>\n",
       "      <th>BR</th>\n",
       "      <th>CH</th>\n",
       "      <th>CT</th>\n",
       "      <th>...</th>\n",
       "      <th>PB</th>\n",
       "      <th>RJ</th>\n",
       "      <th>SK</th>\n",
       "      <th>TN</th>\n",
       "      <th>TG</th>\n",
       "      <th>TR</th>\n",
       "      <th>UP</th>\n",
       "      <th>UT</th>\n",
       "      <th>WB</th>\n",
       "      <th>UN</th>\n",
       "    </tr>\n",
       "  </thead>\n",
       "  <tbody>\n",
       "    <tr>\n",
       "      <th>0</th>\n",
       "      <td>14-Mar-20</td>\n",
       "      <td>0</td>\n",
       "      <td>81</td>\n",
       "      <td>0</td>\n",
       "      <td>1</td>\n",
       "      <td>0</td>\n",
       "      <td>0</td>\n",
       "      <td>0</td>\n",
       "      <td>0</td>\n",
       "      <td>0</td>\n",
       "      <td>...</td>\n",
       "      <td>1</td>\n",
       "      <td>3</td>\n",
       "      <td>0</td>\n",
       "      <td>1</td>\n",
       "      <td>1</td>\n",
       "      <td>0</td>\n",
       "      <td>12</td>\n",
       "      <td>0</td>\n",
       "      <td>0</td>\n",
       "      <td>0</td>\n",
       "    </tr>\n",
       "    <tr>\n",
       "      <th>1</th>\n",
       "      <td>14-Mar-20</td>\n",
       "      <td>1</td>\n",
       "      <td>9</td>\n",
       "      <td>0</td>\n",
       "      <td>0</td>\n",
       "      <td>0</td>\n",
       "      <td>0</td>\n",
       "      <td>0</td>\n",
       "      <td>0</td>\n",
       "      <td>0</td>\n",
       "      <td>...</td>\n",
       "      <td>0</td>\n",
       "      <td>1</td>\n",
       "      <td>0</td>\n",
       "      <td>0</td>\n",
       "      <td>0</td>\n",
       "      <td>0</td>\n",
       "      <td>4</td>\n",
       "      <td>0</td>\n",
       "      <td>0</td>\n",
       "      <td>0</td>\n",
       "    </tr>\n",
       "    <tr>\n",
       "      <th>2</th>\n",
       "      <td>14-Mar-20</td>\n",
       "      <td>2</td>\n",
       "      <td>2</td>\n",
       "      <td>0</td>\n",
       "      <td>0</td>\n",
       "      <td>0</td>\n",
       "      <td>0</td>\n",
       "      <td>0</td>\n",
       "      <td>0</td>\n",
       "      <td>0</td>\n",
       "      <td>...</td>\n",
       "      <td>0</td>\n",
       "      <td>0</td>\n",
       "      <td>0</td>\n",
       "      <td>0</td>\n",
       "      <td>0</td>\n",
       "      <td>0</td>\n",
       "      <td>0</td>\n",
       "      <td>0</td>\n",
       "      <td>0</td>\n",
       "      <td>0</td>\n",
       "    </tr>\n",
       "  </tbody>\n",
       "</table>\n",
       "<p>3 rows × 41 columns</p>\n",
       "</div>"
      ],
      "text/plain": [
       "        Date Status  TT  AN  AP  AR  AS  BR  CH  CT  ...  PB  RJ  SK  TN  TG  \\\n",
       "0  14-Mar-20      0  81   0   1   0   0   0   0   0  ...   1   3   0   1   1   \n",
       "1  14-Mar-20      1   9   0   0   0   0   0   0   0  ...   0   1   0   0   0   \n",
       "2  14-Mar-20      2   2   0   0   0   0   0   0   0  ...   0   0   0   0   0   \n",
       "\n",
       "   TR  UP  UT  WB  UN  \n",
       "0   0  12   0   0   0  \n",
       "1   0   4   0   0   0  \n",
       "2   0   0   0   0   0  \n",
       "\n",
       "[3 rows x 41 columns]"
      ]
     },
     "execution_count": 75,
     "metadata": {},
     "output_type": "execute_result"
    }
   ],
   "source": [
    "datas.head(3)"
   ]
  },
  {
   "cell_type": "code",
   "execution_count": 76,
   "metadata": {},
   "outputs": [],
   "source": [
    "datas.drop(columns=['Date'],inplace=True)"
   ]
  },
  {
   "cell_type": "code",
   "execution_count": 77,
   "metadata": {},
   "outputs": [
    {
     "data": {
      "text/plain": [
       "Index(['Status', 'TT', 'AN', 'AP', 'AR', 'AS', 'BR', 'CH', 'CT', 'DN', 'DD',\n",
       "       'DL', 'GA', 'GJ', 'HR', 'HP', 'JK', 'JH', 'KA', 'KL', 'LA', 'LD', 'MP',\n",
       "       'MH', 'MN', 'ML', 'MZ', 'NL', 'OR', 'PY', 'PB', 'RJ', 'SK', 'TN', 'TG',\n",
       "       'TR', 'UP', 'UT', 'WB', 'UN'],\n",
       "      dtype='object')"
      ]
     },
     "execution_count": 77,
     "metadata": {},
     "output_type": "execute_result"
    }
   ],
   "source": [
    "datas.columns"
   ]
  },
  {
   "cell_type": "code",
   "execution_count": 78,
   "metadata": {},
   "outputs": [
    {
     "data": {
      "text/plain": [
       "array([[81,  0,  1,  0,  0,  0,  0,  0,  0,  0,  7,  0,  0, 14,  0,  2,\n",
       "         0,  6, 19,  0,  0,  0, 14,  0,  0,  0,  0,  0,  0,  1,  3,  0,\n",
       "         1,  1,  0, 12,  0,  0,  0],\n",
       "       [ 9,  0,  0,  0,  0,  0,  0,  0,  0,  0,  1,  0,  0,  0,  0,  0,\n",
       "         0,  0,  3,  0,  0,  0,  0,  0,  0,  0,  0,  0,  0,  0,  1,  0,\n",
       "         0,  0,  0,  4,  0,  0,  0],\n",
       "       [ 2,  0,  0,  0,  0,  0,  0,  0,  0,  0,  1,  0,  0,  0,  0,  0,\n",
       "         0,  1,  0,  0,  0,  0,  0,  0,  0,  0,  0,  0,  0,  0,  0,  0,\n",
       "         0,  0,  0,  0,  0,  0,  0],\n",
       "       [27,  0,  0,  0,  0,  0,  0,  0,  0,  0,  0,  0,  0,  0,  0,  0,\n",
       "         0,  0,  5,  0,  0,  0, 18,  0,  0,  0,  0,  0,  0,  0,  1,  0,\n",
       "         0,  2,  0,  1,  0,  0,  0],\n",
       "       [ 4,  0,  0,  0,  0,  0,  0,  0,  0,  0,  1,  0,  0,  0,  0,  0,\n",
       "         0,  0,  0,  0,  0,  0,  0,  0,  0,  0,  0,  0,  0,  0,  2,  0,\n",
       "         0,  1,  0,  0,  0,  0,  0]], dtype=int64)"
      ]
     },
     "execution_count": 78,
     "metadata": {},
     "output_type": "execute_result"
    }
   ],
   "source": [
    "x = datas[['TT', 'AN', 'AP', 'AR', 'AS', 'BR', 'CH', 'CT', 'DN', 'DD',\n",
    "       'DL', 'GA', 'GJ', 'HR', 'HP', 'JK', 'JH', 'KA', 'KL', 'LA', 'LD', 'MP',\n",
    "       'MH', 'MN', 'ML', 'MZ', 'NL', 'OR', 'PY', 'PB', 'RJ', 'SK', 'TN', 'TG',\n",
    "       'TR', 'UP', 'UT', 'WB', 'UN']] .values  \n",
    "x[0:5]"
   ]
  },
  {
   "cell_type": "code",
   "execution_count": 79,
   "metadata": {},
   "outputs": [
    {
     "data": {
      "text/plain": [
       "array(['0', '1', '2', '0', '1'], dtype=object)"
      ]
     },
     "execution_count": 79,
     "metadata": {},
     "output_type": "execute_result"
    }
   ],
   "source": [
    "y = datas['Status'].values\n",
    "y[0:5]"
   ]
  },
  {
   "cell_type": "code",
   "execution_count": 80,
   "metadata": {},
   "outputs": [
    {
     "data": {
      "text/plain": [
       "array([[-0.62373706, -0.32453617, -0.44654347, -0.3046312 , -0.44017774,\n",
       "        -0.59830945, -0.38957995, -0.51589193, -0.33299692,  0.        ,\n",
       "        -0.53463575, -0.41722886, -0.84237264, -0.47057974, -0.56162429,\n",
       "        -0.56587247, -0.49814426, -0.37589416, -0.19824055, -0.27835396,\n",
       "         0.        , -0.86965095, -0.63352822, -0.38689116, -0.15703169,\n",
       "        -0.21667963, -0.32872659, -0.51703245, -0.38309254, -0.45232962,\n",
       "        -0.77834302, -0.18133977, -0.56689176, -0.39150599, -0.40630124,\n",
       "        -0.5969535 , -0.5071805 , -0.60619091, -0.05991803],\n",
       "       [-0.63577367, -0.32453617, -0.45067867, -0.3046312 , -0.44017774,\n",
       "        -0.59830945, -0.38957995, -0.51589193, -0.33299692,  0.        ,\n",
       "        -0.54051953, -0.41722886, -0.84237264, -0.54864266, -0.56162429,\n",
       "        -0.59259599, -0.49814426, -0.39352771, -0.48020021, -0.27835396,\n",
       "         0.        , -0.86965095, -0.64194987, -0.38689116, -0.15703169,\n",
       "        -0.21667963, -0.32872659, -0.51703245, -0.38309254, -0.46556148,\n",
       "        -0.79216045, -0.18133977, -0.56783721, -0.39422462, -0.40630124,\n",
       "        -0.62968212, -0.5071805 , -0.60619091, -0.05991803],\n",
       "       [-0.63694389, -0.32453617, -0.45067867, -0.3046312 , -0.44017774,\n",
       "        -0.59830945, -0.38957995, -0.51589193, -0.33299692,  0.        ,\n",
       "        -0.54051953, -0.41722886, -0.84237264, -0.54864266, -0.56162429,\n",
       "        -0.59259599, -0.49814426, -0.39058878, -0.53306765, -0.27835396,\n",
       "         0.        , -0.86965095, -0.64194987, -0.38689116, -0.15703169,\n",
       "        -0.21667963, -0.32872659, -0.51703245, -0.38309254, -0.46556148,\n",
       "        -0.79906916, -0.18133977, -0.56783721, -0.39422462, -0.40630124,\n",
       "        -0.64604643, -0.5071805 , -0.60619091, -0.05991803],\n",
       "       [-0.63276452, -0.32453617, -0.45067867, -0.3046312 , -0.44017774,\n",
       "        -0.59830945, -0.38957995, -0.51589193, -0.33299692,  0.        ,\n",
       "        -0.54150016, -0.41722886, -0.84237264, -0.54864266, -0.56162429,\n",
       "        -0.59259599, -0.49814426, -0.39352771, -0.44495525, -0.27835396,\n",
       "         0.        , -0.86965095, -0.63112203, -0.38689116, -0.15703169,\n",
       "        -0.21667963, -0.32872659, -0.51703245, -0.38309254, -0.46556148,\n",
       "        -0.79216045, -0.18133977, -0.56783721, -0.38878736, -0.40630124,\n",
       "        -0.64195535, -0.5071805 , -0.60619091, -0.05991803],\n",
       "       [-0.63660954, -0.32453617, -0.45067867, -0.3046312 , -0.44017774,\n",
       "        -0.59830945, -0.38957995, -0.51589193, -0.33299692,  0.        ,\n",
       "        -0.54051953, -0.41722886, -0.84237264, -0.54864266, -0.56162429,\n",
       "        -0.59259599, -0.49814426, -0.39352771, -0.53306765, -0.27835396,\n",
       "         0.        , -0.86965095, -0.64194987, -0.38689116, -0.15703169,\n",
       "        -0.21667963, -0.32872659, -0.51703245, -0.38309254, -0.46556148,\n",
       "        -0.78525174, -0.18133977, -0.56783721, -0.39150599, -0.40630124,\n",
       "        -0.64604643, -0.5071805 , -0.60619091, -0.05991803]])"
      ]
     },
     "execution_count": 80,
     "metadata": {},
     "output_type": "execute_result"
    }
   ],
   "source": [
    "x = preprocessing.StandardScaler().fit(x).transform(x.astype(float))\n",
    "x[0:5]  #standardization of data"
   ]
  },
  {
   "cell_type": "code",
   "execution_count": 81,
   "metadata": {},
   "outputs": [
    {
     "name": "stdout",
     "output_type": "stream",
     "text": [
      "Train set: (285, 39) (285,)\n",
      "Test set: (72, 39) (72,)\n"
     ]
    }
   ],
   "source": [
    "x_train, x_test, y_train, y_test = train_test_split( x, y, test_size=0.2, random_state=2)\n",
    "print ('Train set:', x_train.shape,  y_train.shape)\n",
    "print ('Test set:', x_test.shape,  y_test.shape) #trainning model and predicting"
   ]
  },
  {
   "cell_type": "code",
   "execution_count": 82,
   "metadata": {},
   "outputs": [
    {
     "data": {
      "text/plain": [
       "KNeighborsClassifier(algorithm='auto', leaf_size=30, metric='minkowski',\n",
       "                     metric_params=None, n_jobs=None, n_neighbors=3, p=2,\n",
       "                     weights='uniform')"
      ]
     },
     "execution_count": 82,
     "metadata": {},
     "output_type": "execute_result"
    }
   ],
   "source": [
    "k = 3\n",
    "n = KNeighborsClassifier(n_neighbors = k).fit(x_train,y_train)\n",
    "n"
   ]
  },
  {
   "cell_type": "code",
   "execution_count": 83,
   "metadata": {},
   "outputs": [
    {
     "data": {
      "text/plain": [
       "array(['2', '2', '2', '2', '1'], dtype=object)"
      ]
     },
     "execution_count": 83,
     "metadata": {},
     "output_type": "execute_result"
    }
   ],
   "source": [
    "yhat = n.predict(x_test)  \n",
    "yhat[0:5]"
   ]
  },
  {
   "cell_type": "code",
   "execution_count": 84,
   "metadata": {},
   "outputs": [
    {
     "name": "stdout",
     "output_type": "stream",
     "text": [
      "Model accuracy is 0.69\n"
     ]
    }
   ],
   "source": [
    "score = n.score(x_test, y_test)\n",
    "print(\"Model accuracy is {}\".format(score.round(2))) #model accuracy score"
   ]
  }
 ],
 "metadata": {
  "kernelspec": {
   "display_name": "Python 3",
   "language": "python",
   "name": "python3"
  },
  "language_info": {
   "codemirror_mode": {
    "name": "ipython",
    "version": 3
   },
   "file_extension": ".py",
   "mimetype": "text/x-python",
   "name": "python",
   "nbconvert_exporter": "python",
   "pygments_lexer": "ipython3",
   "version": "3.7.6"
  }
 },
 "nbformat": 4,
 "nbformat_minor": 4
}
