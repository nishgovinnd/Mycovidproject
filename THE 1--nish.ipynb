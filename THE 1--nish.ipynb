{
 "cells": [
  {
   "cell_type": "code",
   "execution_count": 1,
   "metadata": {},
   "outputs": [
    {
     "name": "stdout",
     "output_type": "stream",
     "text": [
      "states:['Maharashtra', 'Tamil Nadu', 'Delhi', 'Gujarat', 'Uttar Pradesh', 'West Bengal', 'Rajasthan', 'Telangana', 'Karnataka', 'Andhra Pradesh', 'Haryana', 'Madhya Pradesh', 'Bihar', 'Assam', 'Jammu Kashmir', 'Odisha', 'Punjab', 'Kerela', 'Uttarakhand', 'Chattisgadh', 'Jharkhand', 'Tripura', 'Goa', 'Manipur', 'Ladakh', 'Himachal pradesh', 'Puducherry', 'Nagaland', 'Chandigadh', 'Dadra and Nagar Haveli', 'Arunachal Pradesh', 'Mizoram', 'Sikkim', 'Andaman and Nicobar', 'Meghalaya', 'Lakshadweep']\n",
      "Total Cases per state:[180298, 94049, 89802, 33232, 24056, 19170, 18312, 17357, 16514, 15252, 14941, 13861, 10249, 8582, 7695, 7316, 5668, 4593, 2947, 2940, 2521, 1396, 1387, 1260, 990, 979, 714, 459, 446, 215, 195, 160, 101, 100, 52, 0]\n"
     ]
    }
   ],
   "source": [
    "l1=['tn','ap','wb','kl','jk']\n",
    "l2=[12,14,45,63,71]\n",
    "States = ['Maharashtra', 'Tamil Nadu', 'Delhi', 'Gujarat', 'Uttar Pradesh', 'West Bengal', 'Rajasthan', 'Telangana', 'Karnataka', 'Andhra Pradesh', 'Haryana', 'Madhya Pradesh', 'Bihar', 'Assam', 'Jammu Kashmir', 'Odisha', 'Punjab', 'Kerela', 'Uttarakhand', 'Chattisgadh', 'Jharkhand', 'Tripura', 'Goa', 'Manipur', 'Ladakh', 'Himachal pradesh', 'Puducherry', 'Nagaland', 'Chandigadh', 'Dadra and Nagar Haveli', 'Arunachal Pradesh', 'Mizoram', 'Sikkim', 'Andaman and Nicobar', 'Meghalaya', 'Lakshadweep']\n",
    "Total_Cases = [180298, 94049, 89802, 33232, 24056, 19170, 18312, 17357, 16514, 15252, 14941, 13861, 10249, 8582, 7695, 7316, 5668, 4593, 2947, 2940, 2521, 1396, 1387, 1260, 990, 979, 714, 459, 446, 215, 195, 160, 101, 100, 52, 0]\n",
    "Total_Recovered = (93154, 52926, 59992, 24030, 16629, 12528, 14574, 8082, 8063, 6988, 10499, 10655, 7946, 5851, 4856, 5353, 3867, 2439, 2317, 2303, 1931, 1093, 670, 579, 694, 614, 272, 168, 367, 86, 86, 66, 123, 53, 50, 42, 0)\n",
    "print (\"states:\" + str(States))\n",
    "print (\"Total Cases per state:\" + str(Total_Cases))"
   ]
  },
  {
   "cell_type": "code",
   "execution_count": 8,
   "metadata": {},
   "outputs": [
    {
     "name": "stdout",
     "output_type": "stream",
     "text": [
      "as a dictionary {'Maharashtra': 180298, 'Tamil Nadu': 94049, 'Delhi': 89802, 'Gujarat': 33232, 'Uttar Pradesh': 24056, 'West Bengal': 19170, 'Rajasthan': 18312, 'Telangana': 17357, 'Karnataka': 16514, 'Andhra Pradesh': 15252, 'Haryana': 14941, 'Madhya Pradesh': 13861, 'Bihar': 10249, 'Assam': 8582, 'Jammu Kashmir': 7695, 'Odisha': 7316, 'Punjab': 5668, 'Kerela': 4593, 'Uttarakhand': 2947, 'Chattisgadh': 2940, 'Jharkhand': 2521, 'Tripura': 1396, 'Goa': 1387, 'Manipur': 1260, 'Ladakh': 990, 'Himachal pradesh': 979, 'Puducherry': 714, 'Nagaland': 459, 'Chandigadh': 446, 'Dadra and Nagar Haveli': 215, 'Arunachal Pradesh': 195, 'Mizoram': 160, 'Sikkim': 101, 'Andaman and Nicobar': 100, 'Meghalaya': 52, 'Lakshadweep': 0}\n"
     ]
    }
   ],
   "source": [
    "dict={States[i]:Total_Cases[i] for i in range (len(States))}\n",
    "print('as a dictionary',str(dict))"
   ]
  },
  {
   "cell_type": "code",
   "execution_count": 12,
   "metadata": {},
   "outputs": [],
   "source": [
    "def cmr(deaths,populations):\n",
    "    cmr=(deaths/populations)*100\n",
    "    print('cmr = {}%'.format(cmr))"
   ]
  },
  {
   "cell_type": "code",
   "execution_count": 13,
   "metadata": {},
   "outputs": [],
   "source": [
    "def ifr(infected,deaths):\n",
    "    ifr=(deaths/infected)*100\n",
    "    print('ifr = {}%'.format(ifr))"
   ]
  },
  {
   "cell_type": "code",
   "execution_count": 14,
   "metadata": {},
   "outputs": [
    {
     "name": "stdout",
     "output_type": "stream",
     "text": [
      "cmr = 28.011204481792717%\n"
     ]
    }
   ],
   "source": [
    "cmr(100,357)"
   ]
  },
  {
   "cell_type": "code",
   "execution_count": 15,
   "metadata": {},
   "outputs": [
    {
     "name": "stdout",
     "output_type": "stream",
     "text": [
      "ifr = 0.24%\n"
     ]
    }
   ],
   "source": [
    "ifr(10000,24)"
   ]
  },
  {
   "cell_type": "code",
   "execution_count": null,
   "metadata": {},
   "outputs": [],
   "source": []
  }
 ],
 "metadata": {
  "kernelspec": {
   "display_name": "Python 3",
   "language": "python",
   "name": "python3"
  },
  "language_info": {
   "codemirror_mode": {
    "name": "ipython",
    "version": 3
   },
   "file_extension": ".py",
   "mimetype": "text/x-python",
   "name": "python",
   "nbconvert_exporter": "python",
   "pygments_lexer": "ipython3",
   "version": "3.7.6"
  }
 },
 "nbformat": 4,
 "nbformat_minor": 4
}
